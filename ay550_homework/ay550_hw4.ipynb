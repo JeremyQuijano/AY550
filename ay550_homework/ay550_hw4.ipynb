{
 "cells": [
  {
   "cell_type": "code",
   "execution_count": 1,
   "id": "0f63f7a8",
   "metadata": {},
   "outputs": [],
   "source": [
    "# import packages\n",
    "import matplotlib.pyplot as plt\n",
    "import numpy as np\n",
    "import astropy.constants as const\n",
    "import astropy.units as u\n",
    "import pandas as pd"
   ]
  },
  {
   "cell_type": "markdown",
   "id": "54c7a5e2",
   "metadata": {},
   "source": [
    "# Problem 1a: Clayton 5.4"
   ]
  },
  {
   "cell_type": "code",
   "execution_count": 47,
   "id": "2ac2d8c4",
   "metadata": {},
   "outputs": [],
   "source": [
    "def react_rate(T9, rho, Xi):\n",
    "    return ((1.15E9 / T9**(2/3)) * Xi**2 * rho**2 * np.exp(-3.380 / T9**(1/3))) / u.cm**3 / u.s\n",
    "\n",
    "def H_lifetime(rho, Xi, r_H):\n",
    "    return (const.N_A.value * rho * Xi / u.cm**3) / (2 * r_H)"
   ]
  },
  {
   "cell_type": "code",
   "execution_count": 48,
   "id": "31041a3a",
   "metadata": {
    "scrolled": true
   },
   "outputs": [
    {
     "name": "stdout",
     "output_type": "stream",
     "text": [
      "52780305.581231326 1 / (cm3 s)\n",
      "9038888801.885897 yr\n"
     ]
    }
   ],
   "source": [
    "T9 = .015\n",
    "rho = 100\n",
    "Xi = 0.5\n",
    "\n",
    "r_H = react_rate(T9, rho, Xi)\n",
    "print(r_H)\n",
    "time = H_lifetime(rho, Xi, r_H)\n",
    "print(time.to(u.yr))"
   ]
  },
  {
   "cell_type": "markdown",
   "id": "26be3d8d",
   "metadata": {},
   "source": [
    "# Problem 1b"
   ]
  },
  {
   "cell_type": "code",
   "execution_count": 98,
   "id": "9d29901d",
   "metadata": {},
   "outputs": [],
   "source": [
    "temps = np.arange(1E-5, 2E-2, 1E-5)"
   ]
  },
  {
   "cell_type": "code",
   "execution_count": 99,
   "id": "8ab796b5",
   "metadata": {},
   "outputs": [],
   "source": [
    "temp = []\n",
    "for i in range(len(temps)):\n",
    "    temp.append(((2.4E4 * 3 * 0.5**2 * const.M_sun.cgs.value**2 * np.exp(-3.380 * temps[i]**(-1/3))) / \n",
    "                 (4 * np.pi * const.R_sun.cgs.value**3 * const.L_sun.cgs.value * temps[i]**(2/3)) - 1)) "
   ]
  },
  {
   "cell_type": "code",
   "execution_count": 100,
   "id": "763f91ae",
   "metadata": {},
   "outputs": [
    {
     "name": "stdout",
     "output_type": "stream",
     "text": [
      "(array([   0,    1,    2, ..., 1996, 1997, 1998]),)\n"
     ]
    }
   ],
   "source": [
    "print(np.where(np.array(temp) < 0))"
   ]
  },
  {
   "cell_type": "code",
   "execution_count": 101,
   "id": "47e844c4",
   "metadata": {},
   "outputs": [
    {
     "name": "stdout",
     "output_type": "stream",
     "text": [
      "0.01999\n"
     ]
    }
   ],
   "source": [
    "print(temps[1998])"
   ]
  },
  {
   "cell_type": "code",
   "execution_count": null,
   "id": "20038147",
   "metadata": {},
   "outputs": [],
   "source": [
    "plt.plot(temps, temp)\n",
    "plt.show()"
   ]
  },
  {
   "cell_type": "markdown",
   "id": "c48b7986",
   "metadata": {},
   "source": [
    "# Problem 1c"
   ]
  },
  {
   "cell_type": "code",
   "execution_count": 198,
   "id": "6505ecdd",
   "metadata": {},
   "outputs": [],
   "source": [
    "a = np.arange(0, 5, .01)\n",
    "Tc9 = .019\n",
    "val = []\n",
    "\n",
    "for i in range(len(a)):\n",
    "    val.append(((a[i] + (2./3.)) * np.log(Tc9)) + (3.38 / Tc9**(1/3)))"
   ]
  },
  {
   "cell_type": "code",
   "execution_count": 200,
   "id": "f6155fa3",
   "metadata": {
    "scrolled": true
   },
   "outputs": [
    {
     "name": "stdout",
     "output_type": "stream",
     "text": [
      "(array([253, 254, 255, 256, 257, 258, 259, 260, 261, 262, 263, 264, 265,\n",
      "       266, 267, 268, 269, 270, 271, 272, 273, 274, 275, 276, 277, 278,\n",
      "       279, 280, 281, 282, 283, 284, 285, 286, 287, 288, 289, 290, 291,\n",
      "       292, 293, 294, 295, 296, 297, 298, 299, 300, 301, 302, 303, 304,\n",
      "       305, 306, 307, 308, 309, 310, 311, 312, 313, 314, 315, 316, 317,\n",
      "       318, 319, 320, 321, 322, 323, 324, 325, 326, 327, 328, 329, 330,\n",
      "       331, 332, 333, 334, 335, 336, 337, 338, 339, 340, 341, 342, 343,\n",
      "       344, 345, 346, 347, 348, 349, 350, 351, 352, 353, 354, 355, 356,\n",
      "       357, 358, 359, 360, 361, 362, 363, 364, 365, 366, 367, 368, 369,\n",
      "       370, 371, 372, 373, 374, 375, 376, 377, 378, 379, 380, 381, 382,\n",
      "       383, 384, 385, 386, 387, 388, 389, 390, 391, 392, 393, 394, 395,\n",
      "       396, 397, 398, 399, 400, 401, 402, 403, 404, 405, 406, 407, 408,\n",
      "       409, 410, 411, 412, 413, 414, 415, 416, 417, 418, 419, 420, 421,\n",
      "       422, 423, 424, 425, 426, 427, 428, 429, 430, 431, 432, 433, 434,\n",
      "       435, 436, 437, 438, 439, 440, 441, 442, 443, 444, 445, 446, 447,\n",
      "       448, 449, 450, 451, 452, 453, 454, 455, 456, 457, 458, 459, 460,\n",
      "       461, 462, 463, 464, 465, 466, 467, 468, 469, 470, 471, 472, 473,\n",
      "       474, 475, 476, 477, 478, 479, 480, 481, 482, 483, 484, 485, 486,\n",
      "       487, 488, 489, 490, 491, 492, 493, 494, 495, 496, 497, 498, 499]),)\n",
      "2.5300000000000002\n"
     ]
    }
   ],
   "source": [
    "print(np.where(np.array(val) < 0))\n",
    "print(a[253])"
   ]
  },
  {
   "cell_type": "code",
   "execution_count": 202,
   "id": "70731c36",
   "metadata": {},
   "outputs": [
    {
     "data": {
      "image/png": "[encoded data removed]",
      "text/plain": [
       "<Figure size 432x288 with 1 Axes>"
      ]
     },
     "metadata": {
      "needs_background": "light"
     },
     "output_type": "display_data"
    }
   ],
   "source": [
    "plt.plot(a, val)\n",
    "plt.axvline(x=2.5, color='orange')\n",
    "plt.axhline(y=0, color='orange')\n",
    "plt.show()"
   ]
  },
  {
   "cell_type": "markdown",
   "id": "1b0c6164",
   "metadata": {},
   "source": [
    "# Problem 2a"
   ]
  },
  {
   "cell_type": "code",
   "execution_count": 40,
   "id": "68d8025f",
   "metadata": {},
   "outputs": [
    {
     "name": "stdout",
     "output_type": "stream",
     "text": [
      "4.483978054917588e+24 MeV / g\n"
     ]
    }
   ],
   "source": [
    "print(30 * u.MeV / (4. * const.m_p.to(u.g)))"
   ]
  },
  {
   "cell_type": "markdown",
   "id": "acfeeb1b",
   "metadata": {},
   "source": [
    "# Problem 2b"
   ]
  },
  {
   "cell_type": "code",
   "execution_count": 275,
   "id": "3a26f0be",
   "metadata": {},
   "outputs": [],
   "source": [
    "M = [1 * const.M_sun, 5 * const.M_sun, 10 * const.M_sun]\n",
    "\n",
    "t_thermal = []\n",
    "\n",
    "for i in range(len(M)):\n",
    "    t_thermal.append(((const.G * const.M_sun**4) / (const.R_sun * const.L_sun.to(u.kg * u.m**2 / u.s**3) * M[i]**2)).to(u.yr))"
   ]
  },
  {
   "cell_type": "code",
   "execution_count": 276,
   "id": "aced3665",
   "metadata": {
    "scrolled": false
   },
   "outputs": [
    {
     "name": "stdout",
     "output_type": "stream",
     "text": [
      "[<Quantity 31399276.76222473 yr>, <Quantity 1255971.07048899 yr>, <Quantity 313992.76762225 yr>]\n"
     ]
    }
   ],
   "source": [
    "print(t_thermal)"
   ]
  },
  {
   "cell_type": "code",
   "execution_count": 309,
   "id": "cc5c116e",
   "metadata": {},
   "outputs": [],
   "source": [
    "E_nuc = (4.5E24 * u.MeV / u.g)\n",
    "M_ms = [1 * const.M_sun, 5 * const.M_sun, 10 * const.M_sun]\n",
    "t_ms = []\n",
    "\n",
    "for i in range(len(M)):\n",
    "    t_ms.append(((E_nuc.si * .1 * const.M_sun.si**3) / (const.L_sun.si * M_ms[i]**2)).to(u.yr))"
   ]
  },
  {
   "cell_type": "code",
   "execution_count": 310,
   "id": "3cc1676e",
   "metadata": {},
   "outputs": [
    {
     "name": "stdout",
     "output_type": "stream",
     "text": [
      "[<Quantity 1.18673273e+10 yr>, <Quantity 4.74693093e+08 yr>, <Quantity 1.18673273e+08 yr>]\n"
     ]
    }
   ],
   "source": [
    "print(t_ms)"
   ]
  },
  {
   "cell_type": "markdown",
   "id": "df323296",
   "metadata": {},
   "source": [
    "# Problem 3"
   ]
  },
  {
   "cell_type": "code",
   "execution_count": 204,
   "id": "fdf6401b",
   "metadata": {},
   "outputs": [],
   "source": [
    "def find_Z(A):\n",
    "    return ((36.2 * A) / (72.4 + (0.56 * A**(2/3))))"
   ]
  },
  {
   "cell_type": "code",
   "execution_count": 313,
   "id": "aadb1543",
   "metadata": {},
   "outputs": [],
   "source": [
    "A = np.arange(1, 250, 1)\n",
    "Z = []\n",
    "\n",
    "for i in range(len(A)):\n",
    "    Z.append(find_Z(A[i]))"
   ]
  },
  {
   "cell_type": "code",
   "execution_count": 314,
   "id": "f64e4275",
   "metadata": {},
   "outputs": [
    {
     "name": "stdout",
     "output_type": "stream",
     "text": [
      "[1.9617642507813595, 5.7662264775116325, 25.152349391227887, 42.858072611352284]\n"
     ]
    }
   ],
   "source": [
    "A_test = [4, 12, 56, 100]\n",
    "Z_test = []\n",
    "\n",
    "for i in range(len(A_test)):\n",
    "    Z_test.append(find_Z(A_test[i]))\n",
    "\n",
    "print(Z_test)"
   ]
  },
  {
   "cell_type": "code",
   "execution_count": 315,
   "id": "8339fa99",
   "metadata": {},
   "outputs": [],
   "source": [
    "def binding_energy(A, Z):\n",
    "    return (-14 * A) + ((18.1 * (A - (2 * Z))**2) / A) + ((0.56 * Z**2) / A**(1/3)) + (13.1 * A**(2/3))"
   ]
  },
  {
   "cell_type": "code",
   "execution_count": 316,
   "id": "9ac2eae8",
   "metadata": {},
   "outputs": [],
   "source": [
    "BE_A = []\n",
    "for i in range(len(A)):\n",
    "    BE_A.append(-binding_energy(A[i], Z[i]) / A[i])"
   ]
  },
  {
   "cell_type": "code",
   "execution_count": 317,
   "id": "37b39c1c",
   "metadata": {
    "scrolled": true
   },
   "outputs": [
    {
     "name": "stdout",
     "output_type": "stream",
     "text": [
      "8.73590449126161\n",
      "(array([57]),)\n",
      "Proton number for max binding energy: 25.570630626454623\n"
     ]
    }
   ],
   "source": [
    "print(np.max(BE_A))\n",
    "print(np.where(BE_A==np.max(BE_A)))\n",
    "print('Proton number for max binding energy:', Z[56])"
   ]
  },
  {
   "cell_type": "code",
   "execution_count": 318,
   "id": "c6b1fded",
   "metadata": {},
   "outputs": [
    {
     "name": "stdout",
     "output_type": "stream",
     "text": [
      "0.7610745614035093\n"
     ]
    }
   ],
   "source": [
    "print(BE_A[0])"
   ]
  },
  {
   "cell_type": "code",
   "execution_count": 14,
   "id": "35328484",
   "metadata": {},
   "outputs": [
    {
     "data": {
      "image/png": "[encoded data removed]",
      "text/plain": [
       "<Figure size 432x288 with 1 Axes>"
      ]
     },
     "metadata": {
      "needs_background": "light"
     },
     "output_type": "display_data"
    }
   ],
   "source": [
    "plt.plot(A, BE_A)\n",
    "plt.axvline(x=57, color='orange')\n",
    "plt.xlabel('Mass Number A')\n",
    "plt.ylabel('Binding Energy per Nucleon (MeV)')\n",
    "plt.show()"
   ]
  },
  {
   "cell_type": "code",
   "execution_count": 17,
   "id": "19b759fd",
   "metadata": {},
   "outputs": [
    {
     "name": "stdout",
     "output_type": "stream",
     "text": [
      "8794.5555\n",
      "(array([574]),)\n",
      "Proton number for max binding energy: 28\n"
     ]
    }
   ],
   "source": [
    "be_a_z = pd.read_csv('be_a_z.csv')\n",
    "\n",
    "print(np.max(be_a_z['bindingEnergy(keV)']))\n",
    "print(np.where(be_a_z['bindingEnergy(keV)']==np.max(be_a_z['bindingEnergy(keV)'])))\n",
    "print('Proton number for max binding energy:', be_a_z['z'][574])"
   ]
  },
  {
   "cell_type": "code",
   "execution_count": 21,
   "id": "0df6349f",
   "metadata": {},
   "outputs": [
    {
     "data": {
      "image/png": "[encoded data removed]",
      "text/plain": [
       "<Figure size 432x288 with 1 Axes>"
      ]
     },
     "metadata": {
      "needs_background": "light"
     },
     "output_type": "display_data"
    }
   ],
   "source": [
    "plt.plot(be_a_z['z'], be_a_z['bindingEnergy(keV)'] / 1000)\n",
    "plt.axvline(x=28, color='orange', label='Max Binding Energy (Z=28)')\n",
    "plt.xlabel('Proton Number Z')\n",
    "plt.ylabel('Binding Energy per Nucleon (MeV)')\n",
    "plt.legend()\n",
    "plt.show()"
   ]
  },
  {
   "cell_type": "code",
   "execution_count": null,
   "id": "baca5b5d",
   "metadata": {},
   "outputs": [],
   "source": []
  }
 ],
 "metadata": {
  "kernelspec": {
   "display_name": "Python [conda env:ay550]",
   "language": "python",
   "name": "conda-env-ay550-py"
  },
  "language_info": {
   "codemirror_mode": {
    "name": "ipython",
    "version": 3
   },
   "file_extension": ".py",
   "mimetype": "text/x-python",
   "name": "python",
   "nbconvert_exporter": "python",
   "pygments_lexer": "ipython3",
   "version": "3.8.12"
  }
 },
 "nbformat": 4,
 "nbformat_minor": 5
}
