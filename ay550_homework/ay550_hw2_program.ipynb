{
 "cells": [
  {
   "cell_type": "code",
   "execution_count": 46,
   "id": "e17102ab",
   "metadata": {},
   "outputs": [],
   "source": [
    "import numpy as np"
   ]
  },
  {
   "cell_type": "code",
   "execution_count": 47,
   "id": "827709c1",
   "metadata": {},
   "outputs": [],
   "source": [
    "def dyntime(mass, radius):\n",
    "    G = 6.7E-11\n",
    "    time_dyn = np.zeros(len(mass))\n",
    "    for i in range(len(mass)):\n",
    "        time_dyn[i] = 1 / np.sqrt((3 * G * mass[i]) / (4 * np.pi * radius[i]**3))\n",
    "    return time_dyn\n",
    "\n",
    "def gravbind(mass, radius):\n",
    "    G = 6.7E-11\n",
    "    grav_bind = np.zeros(len(mass))\n",
    "    for i in range(len(mass)):\n",
    "        grav_bind[i] = (3 * G * mass[i]**2) / (5 * radius[i]) * 6.2E18\n",
    "    return grav_bind\n",
    "\n",
    "def temp(mass, radius):\n",
    "    G = 6.7E-11\n",
    "    temp = np.zeros(len(mass))\n",
    "    for i in range(len(mass)):\n",
    "        temp[i] = (G * mass[i]**2) / (5 * radius[i]) * 6.2E18\n",
    "    return temp"
   ]
  },
  {
   "cell_type": "code",
   "execution_count": 48,
   "id": "da6e6ba2",
   "metadata": {},
   "outputs": [
    {
     "name": "stdout",
     "output_type": "stream",
     "text": [
      "Dynamical times: [3.27445454e+03 1.61414335e+03 3.43176567e+03 9.23902729e+05\n",
      " 2.79577830e+00 1.76803926e-04]\n",
      "\n",
      "Gravitational binding energies: [1.42422857e+60 1.42422857e+51 1.26726254e+55 4.48632000e+58\n",
      " 1.58247619e+62 9.96960000e+64]\n",
      "\n",
      "Temperatures: [4.74742857e+59 4.74742857e+50 4.22420845e+54 1.49544000e+58\n",
      " 5.27492063e+61 3.32320000e+64]\n"
     ]
    }
   ],
   "source": [
    "mass = [2.0E30, 6.0E24, 1.9E27, 2.4E30, 2.0E30, 2.0E30]\n",
    "radius = [7.0E8, 6.3E6, 7.1E7, 3.2E10, 6.3E6, 1.0E4]\n",
    "\n",
    "print('Dynamical times:', dyntime(mass, radius))\n",
    "print()\n",
    "print('Gravitational binding energies:', gravbind(mass, radius))\n",
    "print()\n",
    "print('Temperatures:', temp(mass, radius))"
   ]
  },
  {
   "cell_type": "code",
   "execution_count": null,
   "id": "7024d215",
   "metadata": {},
   "outputs": [],
   "source": []
  }
 ],
 "metadata": {
  "kernelspec": {
   "display_name": "Python 3",
   "language": "python",
   "name": "python3"
  },
  "language_info": {
   "codemirror_mode": {
    "name": "ipython",
    "version": 3
   },
   "file_extension": ".py",
   "mimetype": "text/x-python",
   "name": "python",
   "nbconvert_exporter": "python",
   "pygments_lexer": "ipython3",
   "version": "3.7.9"
  }
 },
 "nbformat": 4,
 "nbformat_minor": 5
}
