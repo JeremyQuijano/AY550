{
 "cells": [
  {
   "cell_type": "markdown",
   "metadata": {},
   "source": [
    "# AY550 Homework 3"
   ]
  },
  {
   "cell_type": "code",
   "execution_count": 6,
   "metadata": {},
   "outputs": [],
   "source": [
    "# import packages\n",
    "import matplotlib.pyplot as plt\n",
    "import numpy as np\n",
    "import glob\n",
    "import os\n",
    "import astropy.constants as con\n",
    "import astropy.units as u"
   ]
  },
  {
   "cell_type": "markdown",
   "metadata": {},
   "source": [
    "# Problem 3"
   ]
  },
  {
   "cell_type": "code",
   "execution_count": 104,
   "metadata": {},
   "outputs": [],
   "source": [
    "c = con.c.to(u.cm / u.s)\n",
    "G = con.G.to(u.cm**3 / (u.g * u.s**2))\n",
    "k = con.k_B.to(u.cm**2 * u.g / (u.K * u.s**2))\n",
    "mp = con.m_p.to(u.g)\n",
    "mu = .5\n",
    "kappa = 1. * u.cm**2 / u.g\n",
    "M = con.M_sun.to(u.g)\n",
    "a = 7.56577E-15 * u.cm**2 * u.g / u.cm**3 / u.K**4 / u.s**2"
   ]
  },
  {
   "cell_type": "code",
   "execution_count": 105,
   "metadata": {},
   "outputs": [
    {
     "name": "stdout",
     "output_type": "stream",
     "text": [
      "Luminosity: 2.612039438327495e+34 erg / s\n"
     ]
    }
   ],
   "source": [
    "print('Luminosity:', (((np.pi**2 * c * a * M**3) / (18 * kappa)) * ((G * mu * mp) / k)**4).to(u.erg/u.s))"
   ]
  },
  {
   "cell_type": "code",
   "execution_count": 106,
   "metadata": {},
   "outputs": [
    {
     "name": "stdout",
     "output_type": "stream",
     "text": [
      "Solar luminosity: 3.828e+33 erg / s\n"
     ]
    }
   ],
   "source": [
    "print('Solar luminosity:', con.L_sun.to(u.erg/u.s))"
   ]
  },
  {
   "cell_type": "code",
   "execution_count": 107,
   "metadata": {},
   "outputs": [],
   "source": [
    "kappa2 = 1.0E23 * u.cm**2 / u.g\n",
    "R = con.R_sun.to(u.cm)"
   ]
  },
  {
   "cell_type": "code",
   "execution_count": 115,
   "metadata": {},
   "outputs": [
    {
     "name": "stdout",
     "output_type": "stream",
     "text": [
      "Luminosity: 1.5976217969384317e+111 cm12 K(7/2) / (g2 s3)\n"
     ]
    }
   ],
   "source": [
    "print('Luminosity:', (((32. * np.pi**3 * R**10.) / (27. * M**2.)) * (kappa2 * a * c) * ((G * M * mu * mp) / (4. * R * k))**(15./2.)))"
   ]
  },
  {
   "cell_type": "code",
   "execution_count": 116,
   "metadata": {},
   "outputs": [],
   "source": [
    "mu_he = 4./3."
   ]
  },
  {
   "cell_type": "code",
   "execution_count": 117,
   "metadata": {},
   "outputs": [
    {
     "name": "stdout",
     "output_type": "stream",
     "text": [
      "Luminosity: 1.3208535233814088e+36 erg / s\n"
     ]
    }
   ],
   "source": [
    "print('Luminosity:', (((np.pi**2 * c * a * M**3) / (18 * kappa)) * ((G * mu_he * mp) / k)**4).to(u.erg/u.s))"
   ]
  },
  {
   "cell_type": "code",
   "execution_count": null,
   "metadata": {},
   "outputs": [],
   "source": []
  },
  {
   "cell_type": "code",
   "execution_count": null,
   "metadata": {},
   "outputs": [],
   "source": []
  },
  {
   "cell_type": "code",
   "execution_count": null,
   "metadata": {},
   "outputs": [],
   "source": []
  },
  {
   "cell_type": "markdown",
   "metadata": {},
   "source": [
    "# Problem 4"
   ]
  },
  {
   "cell_type": "code",
   "execution_count": 11,
   "metadata": {},
   "outputs": [],
   "source": [
    "# path to history\n",
    "path_history_1solarmass = './1_solar_mass/LOGS/history.data'\n",
    "\n",
    "# path to profile index\n",
    "path_index_1solarmass = './1_solar_mass/LOGS/profiles.index'\n",
    "\n",
    "# path to profile\n",
    "path_1solarmass = './1_solar_mass/LOGS/'"
   ]
  },
  {
   "cell_type": "code",
   "execution_count": 12,
   "metadata": {},
   "outputs": [
    {
     "name": "stdout",
     "output_type": "stream",
     "text": [
      "history headers: \n",
      " [('model_number', '<f8'), ('num_zones', '<f8'), ('star_age', '<f8'), ('log_dt', '<f8'), ('star_mass', '<f8'), ('log_xmstar', '<f8'), ('log_abs_mdot', '<f8'), ('mass_conv_core', '<f8'), ('conv_mx1_top', '<f8'), ('conv_mx1_bot', '<f8'), ('conv_mx2_top', '<f8'), ('conv_mx2_bot', '<f8'), ('mx1_top', '<f8'), ('mx1_bot', '<f8'), ('mx2_top', '<f8'), ('mx2_bot', '<f8'), ('log_LH', '<f8'), ('log_LHe', '<f8'), ('log_LZ', '<f8'), ('log_Lnuc', '<f8'), ('pp', '<f8'), ('cno', '<f8'), ('tri_alfa', '<f8'), ('epsnuc_M_1', '<f8'), ('epsnuc_M_2', '<f8'), ('epsnuc_M_3', '<f8'), ('epsnuc_M_4', '<f8'), ('epsnuc_M_5', '<f8'), ('epsnuc_M_6', '<f8'), ('epsnuc_M_7', '<f8'), ('epsnuc_M_8', '<f8'), ('he_core_mass', '<f8'), ('c_core_mass', '<f8'), ('o_core_mass', '<f8'), ('si_core_mass', '<f8'), ('fe_core_mass', '<f8'), ('neutron_rich_core_mass', '<f8'), ('log_Teff', '<f8'), ('log_L', '<f8'), ('log_R', '<f8'), ('log_g', '<f8'), ('v_div_csound_surf', '<f8'), ('log_cntr_P', '<f8'), ('log_cntr_Rho', '<f8'), ('log_cntr_T', '<f8'), ('center_mu', '<f8'), ('center_ye', '<f8'), ('center_abar', '<f8'), ('center_h1', '<f8'), ('center_he4', '<f8'), ('center_c12', '<f8'), ('center_o16', '<f8'), ('surface_c12', '<f8'), ('surface_o16', '<f8'), ('total_mass_h1', '<f8'), ('total_mass_he4', '<f8'), ('num_retries', '<f8'), ('num_iters', '<f8')]\n"
     ]
    }
   ],
   "source": [
    "# load history files\n",
    "history_1solarmass = data_loader(path_history_1solarmass)\n",
    "\n",
    "# check history headers\n",
    "print('history headers: \\n', history_1solarmass[0].dtype)"
   ]
  },
  {
   "cell_type": "code",
   "execution_count": 13,
   "metadata": {},
   "outputs": [
    {
     "name": "stdout",
     "output_type": "stream",
     "text": [
      "1 solar mass profile index: \n",
      " [(250., 1.,  6.) (300., 1.,  7.) (324., 2.,  8.) (350., 1.,  9.)\n",
      " (384., 2., 10.) (397., 3., 11.)]\n"
     ]
    }
   ],
   "source": [
    "# load profile index files\n",
    "profile_index_1solarmass = data_loader(path_index_1solarmass)\n",
    "\n",
    "# check profile index\n",
    "print('1 solar mass profile index: \\n', profile_index_1solarmass)"
   ]
  },
  {
   "cell_type": "code",
   "execution_count": 14,
   "metadata": {},
   "outputs": [
    {
     "name": "stdout",
     "output_type": "stream",
     "text": [
      "number of profiles in 1 solar mass: 11\n",
      "name of 1 solar mass profile 1: 1 solar mass profile1\n"
     ]
    }
   ],
   "source": [
    "# load all profiles into array\n",
    "\n",
    "# initialize profile arrays\n",
    "profiles_1solarmass = []\n",
    "\n",
    "# create sorted arrays with profile name and data\n",
    "profile_loader(path_1solarmass, profiles_1solarmass, '1 solar mass ')\n",
    "\n",
    "# check profiles and names\n",
    "print('number of profiles in 1 solar mass:', len(profiles_1solarmass))\n",
    "print('name of 1 solar mass profile 1:', profiles_1solarmass[0][0])"
   ]
  },
  {
   "cell_type": "code",
   "execution_count": 31,
   "metadata": {},
   "outputs": [
    {
     "name": "stdout",
     "output_type": "stream",
     "text": [
      "[('zone', '<f8'), ('mass', '<f8'), ('logR', '<f8'), ('logT', '<f8'), ('logRho', '<f8'), ('logP', '<f8'), ('x_mass_fraction_H', '<f8'), ('y_mass_fraction_He', '<f8'), ('z_mass_fraction_metals', '<f8'), ('radius', '<f8'), ('luminosity', '<f8'), ('mlt_mixing_type', '<f8')]\n"
     ]
    }
   ],
   "source": [
    "print(profiles_1solarmass[10][1].dtype)"
   ]
  },
  {
   "cell_type": "code",
   "execution_count": 82,
   "metadata": {},
   "outputs": [
    {
     "name": "stdout",
     "output_type": "stream",
     "text": [
      "(array([ 14,  15,  16,  17,  18,  19,  20,  21,  22,  23,  24,  25,  26,\n",
      "        27,  28,  29,  30,  31,  32,  33,  34,  35,  36,  37,  38,  39,\n",
      "        40,  41,  42,  43,  44,  45,  46,  47,  48,  49,  50,  51,  52,\n",
      "        53,  54,  55,  56,  57,  58,  59,  60,  61,  62,  63,  64,  65,\n",
      "        66,  67,  68,  69,  70,  71,  72,  73,  74,  75,  76,  77,  78,\n",
      "        79,  80,  81,  82,  83,  84,  85,  86,  87,  88,  89,  90,  91,\n",
      "        92,  93,  94,  95,  96,  97,  98,  99, 100, 101, 102, 103, 104,\n",
      "       105, 106, 107, 108, 109, 110, 111, 112, 113, 114, 115, 116, 117,\n",
      "       118, 119, 120, 121, 122, 123, 124, 125, 126, 127, 128, 129, 130,\n",
      "       131, 132, 133, 134, 135, 136, 137, 138, 139, 140, 141, 142, 143,\n",
      "       144, 145, 146, 147, 148, 149, 150, 151, 152, 153, 154, 155, 156,\n",
      "       157, 158, 159, 160, 161, 162, 163, 164, 165, 166, 167, 168, 169,\n",
      "       170, 171, 172, 173, 174, 175, 176, 177, 178, 179, 180, 181, 182,\n",
      "       183, 184, 185, 186, 187, 188, 189, 190, 191, 192, 193, 194, 195,\n",
      "       196, 197, 198, 199, 200, 201, 202, 203, 204, 205, 206, 207, 208,\n",
      "       209, 210, 211, 212, 213, 214, 215, 216, 217, 218, 219, 220, 221,\n",
      "       222, 223, 224, 225, 226, 227, 228, 229, 230, 231, 232, 233, 234,\n",
      "       235, 236, 237, 238, 239, 240, 241, 242, 243, 244, 245, 246, 247,\n",
      "       248, 249, 250, 251, 252, 253, 254, 255, 256, 257, 258, 259, 260,\n",
      "       261, 262, 263, 264, 265, 266, 267, 268, 269, 270, 271, 272, 273,\n",
      "       274, 275, 276, 277, 278, 279, 280, 281, 282, 283, 284, 285, 286,\n",
      "       287, 288, 289, 290, 291, 292, 293, 294, 295, 296, 297, 298, 299,\n",
      "       300, 301, 302, 303, 304, 305, 306, 307, 308, 309, 310, 311, 312,\n",
      "       313, 314, 315, 316, 317, 318, 319, 320, 321, 322, 323, 324, 325,\n",
      "       326, 327, 328, 329, 330, 331, 332, 333, 334, 335, 336, 337, 338,\n",
      "       339, 340, 341, 342, 343, 344, 345, 346, 347, 348, 349, 350, 351,\n",
      "       352, 353, 354, 355, 356, 357, 358, 359, 360, 361, 362, 363, 364,\n",
      "       365, 366, 367, 368, 369, 370, 371, 372, 373, 374, 375, 376, 377,\n",
      "       378, 379, 380, 381, 382, 383, 384, 385, 386, 387, 388, 389, 390,\n",
      "       391, 392, 393, 394, 395, 396, 397, 398, 399, 400, 401, 402, 403,\n",
      "       404, 405, 406, 407, 408, 409, 410, 411, 412, 413, 414, 415, 416,\n",
      "       417, 418, 419, 420, 421, 422, 423, 424, 425, 426, 427, 428, 429,\n",
      "       430, 431, 432, 433, 434, 435, 436, 437, 438, 439, 440, 441, 442,\n",
      "       443, 444, 445, 446, 447, 448, 449, 450, 451, 452, 453, 454, 455,\n",
      "       456, 457, 458, 459, 460, 461, 462, 463, 464, 465, 466, 467, 468,\n",
      "       469, 470, 471, 472, 473, 474, 475, 476, 477, 478, 479, 480, 481,\n",
      "       482, 483, 484, 485, 486, 487, 488, 489, 490, 491, 492, 493, 494,\n",
      "       495, 496, 497, 498, 499, 500, 501, 502, 503, 504, 505, 506, 507,\n",
      "       508, 509, 510, 511, 512, 513, 514, 515, 516, 517, 518, 519, 520,\n",
      "       521, 522, 523]),)\n",
      "3.8211684599083204\n",
      "-6.6690284014438\n"
     ]
    }
   ],
   "source": [
    "print(np.where(profiles_1solarmass[10][1]['mlt_mixing_type']==1))\n",
    "print(profiles_1solarmass[10][1]['logT'][15])\n",
    "print(profiles_1solarmass[10][1]['logRho'][15])"
   ]
  },
  {
   "cell_type": "code",
   "execution_count": null,
   "metadata": {},
   "outputs": [],
   "source": []
  }
 ],
 "metadata": {
  "kernelspec": {
   "display_name": "ay550",
   "language": "python",
   "name": "ay550"
  },
  "language_info": {
   "codemirror_mode": {
    "name": "ipython",
    "version": 3
   },
   "file_extension": ".py",
   "mimetype": "text/x-python",
   "name": "python",
   "nbconvert_exporter": "python",
   "pygments_lexer": "ipython3",
   "version": "3.8.12"
  }
 },
 "nbformat": 4,
 "nbformat_minor": 4
}
